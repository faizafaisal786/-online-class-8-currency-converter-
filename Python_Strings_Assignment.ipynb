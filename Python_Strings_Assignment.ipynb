{
  "nbformat": 4,
  "nbformat_minor": 0,
  "metadata": {
    "colab": {
      "provenance": [],
      "authorship_tag": "ABX9TyNxBqgkJvTYnD99QqyVutUk",
      "include_colab_link": true
    },
    "kernelspec": {
      "name": "python3",
      "display_name": "Python 3"
    },
    "language_info": {
      "name": "python"
    }
  },
  "cells": [
    {
      "cell_type": "markdown",
      "metadata": {
        "id": "view-in-github",
        "colab_type": "text"
      },
      "source": [
        "<a href=\"https://colab.research.google.com/github/faizafaisal786/-online-class-8-currency-converter-/blob/main/Python_Strings_Assignment.ipynb\" target=\"_parent\"><img src=\"https://colab.research.google.com/assets/colab-badge.svg\" alt=\"Open In Colab\"/></a>"
      ]
    },
    {
      "cell_type": "markdown",
      "source": [
        "## ***this is a print function***"
      ],
      "metadata": {
        "id": "Oh0smzQGStnP"
      }
    },
    {
      "cell_type": "code",
      "source": [
        "# Part 1: Understanding String Literals\n",
        "\n",
        "# 1. Creating different string types\n",
        "single_quote_string = 'This is a string with single quotes'\n",
        "double_quote_string = \"This is a string with double quotes\"\n",
        "triple_quote_string = \"\"\"This is a string with triple quotes\"\"\"\n",
        "\n",
        "# 2. Advantages of each type:\n",
        "# - Single quotes: Useful when you don't need to include apostrophes.\n",
        "# - Double quotes: Useful when you need to include single quotes inside the string.\n",
        "# - Triple quotes: Useful for multi-line strings and preserving formatting.\n",
        "\n",
        "# 3. String with both single and double quotes\n",
        "mixed_quotes_string = 'She said, \"I\\'m going to the store.\"'\n",
        "\n",
        "\n",
        "# 4. Multi-line string describing a hobby\n",
        "hobby_description = \"\"\"\n",
        "I love painting during my free time.\n",
        "It allows me to express my creativity and relax.\n",
        "Mixing colors and creating unique artwork is very satisfying.\n",
        "\"\"\"\n",
        "\n",
        "# Part 2: String Methods Practice\n",
        "\n",
        "# 1. Manipulating name\n",
        "full_name = \"faiza faisal\"\n",
        "print(full_name.upper())  # All uppercase\n",
        "print(full_name.lower())  # All lowercase\n",
        "print(full_name.title())  # Capitalizing each word\n",
        "\n",
        "# 2. Manipulating a messy text\n",
        "messy_text = \"  Python programming is fun!  \"\n",
        "clean_text = messy_text.strip()\n",
        "updated_text = clean_text.replace(\"fun\", \"amazing\")\n",
        "i_count = clean_text.count('i')\n",
        "print(clean_text, updated_text, i_count)\n",
        "\n",
        "# 3. Working with a sentence\n",
        "sentence = \"The quick brown fox jumps over the lazy dog\"\n",
        "words_list = sentence.split()\n",
        "joined_sentence = \"-\".join(words_list)\n",
        "starts_with_the = sentence.startswith(\"The\")\n",
        "fox_position = sentence.find(\"fox\")\n",
        "print(words_list, joined_sentence, starts_with_the, fox_position)\n",
        "\n",
        "# Part 3: F-Strings\n",
        "\n",
        "name = \"faiza\"\n",
        "age = 24\n",
        "language = \"Python\"\n",
        "print(f\"My name is {name} and I am {age} years old.\")\n",
        "print(f\"I enjoy programming in {language}, it's my favorite!\")\n",
        "print(f\"In 5 years, I will be {age + 5} years old.\")\n",
        "\n",
        "# Part 4: Combining String Methods with F-Strings\n",
        "\n",
        "# Asking for user input\n",
        "first_name = input(\"Enter your first name: \").strip().capitalize()\n",
        "last_name = input(\"Enter your last name: \").strip().capitalize()\n",
        "birth_year = int(input(\"Enter your birth year: \"))\n",
        "\n",
        "# Calculating age\n",
        "current_year = 2025\n",
        "age = current_year - birth_year\n",
        "\n",
        "# Creating username\n",
        "username = f\"{first_name[0].lower()}{last_name.lower()}{birth_year}\"\n",
        "\n",
        "# Creating profile message\n",
        "profile_message = f\"Profile: {first_name} {last_name}, Age: {age}, Username: {username}\"\n",
        "print(profile_message)"
      ],
      "metadata": {
        "colab": {
          "base_uri": "https://localhost:8080/"
        },
        "id": "_0t6wJstPOM8",
        "outputId": "0af04da0-2de1-4f87-dbc5-d80f71b94389"
      },
      "execution_count": null,
      "outputs": [
        {
          "output_type": "stream",
          "name": "stdout",
          "text": [
            "FAIZA FAISAL\n",
            "faiza faisal\n",
            "Faiza Faisal\n",
            "Python programming is fun! Python programming is amazing! 2\n",
            "['The', 'quick', 'brown', 'fox', 'jumps', 'over', 'the', 'lazy', 'dog'] The-quick-brown-fox-jumps-over-the-lazy-dog True 16\n",
            "My name is faiza and I am 24 years old.\n",
            "I enjoy programming in Python, it's my favorite!\n",
            "In 5 years, I will be 29 years old.\n",
            "Enter your first name: faiza\n",
            "Enter your last name: faisal\n",
            "Enter your birth year: 2001\n",
            "Profile: Faiza Faisal, Age: 24, Username: ffaisal2001\n"
          ]
        }
      ]
    }
  ]
}